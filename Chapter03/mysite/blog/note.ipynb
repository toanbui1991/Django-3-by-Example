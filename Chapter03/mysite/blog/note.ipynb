{
 "cells": [
  {
   "cell_type": "markdown",
   "metadata": {},
   "source": [
    "**Template as python function:**\n",
    "- from django import template\n",
    "- template package help you define function which will be use in html template file\n",
    "- we have total_post function is register and then use with base.html with load and then reference the function.\n",
    "- @register.inclusion_tag('blog/post/latest_posts.html'), this register function will take a template combine with data return and the put to the parent template which use it.\n",
    "- django have some build in tags and filter which is the building blog for build template\n",
    "- django tags are used to change tags in the template file\n",
    "- django filter are used to change the content inside tags\n",
    "- we have template.Library object which have 3 method to register tags and filter with register.simple_template, register.inclusion_tag, register.filter. in this case we specify the name of customer filter.\n",
    "- we use markdown filter in detail.html, list.html, search.html"
   ]
  },
  {
   "cell_type": "markdown",
   "metadata": {},
   "source": [
    "**Django sitemap:**\n",
    "- sitemap is a class in django which help you build xml which help search engine to parse your application.\n",
    "- to use this features you need to add django.contrib.sites and django.contrib.sitempas in your installed_apps.\n",
    "- define your sitemap class as sitemaps.py\n",
    "- reference your sitemap class as project urls.py file\n"
   ]
  },
  {
   "cell_type": "markdown",
   "metadata": {},
   "source": [
    "**Django Feed:**\n",
    "- it is a class which help us to create xml file. Feed is similar to sitemap"
   ]
  },
  {
   "cell_type": "markdown",
   "metadata": {},
   "source": [
    "**Full text search with postgress:**\n",
    "- we can use package from from django.contrib.postgres.search import SearchVector, SearchQuery, SearchRank, from django.contrib.postgres.search import TrigramSimilarity to do full text search.\n",
    "- "
   ]
  }
 ],
 "metadata": {
  "kernelspec": {
   "display_name": "Python 3.9.13 64-bit",
   "language": "python",
   "name": "python3"
  },
  "language_info": {
   "name": "python",
   "version": "3.9.13"
  },
  "orig_nbformat": 4,
  "vscode": {
   "interpreter": {
    "hash": "397704579725e15f5c7cb49fe5f0341eb7531c82d19f2c29d197e8b64ab5776b"
   }
  }
 },
 "nbformat": 4,
 "nbformat_minor": 2
}
